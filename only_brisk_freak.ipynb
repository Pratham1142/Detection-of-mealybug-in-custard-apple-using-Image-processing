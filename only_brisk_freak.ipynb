{
 "cells": [
  {
   "cell_type": "code",
   "execution_count": 154,
   "metadata": {},
   "outputs": [],
   "source": [
    "import numpy as np\n",
    "import pandas as pd\n",
    "import os\n",
    "import csv\n",
    "import cv2\n",
    "import pickle\n",
    "from sklearn.cluster import KMeans\n",
    "from sklearn.model_selection import train_test_split\n",
    "from sklearn.metrics import classification_report\n",
    "from sklearn.tree import DecisionTreeClassifier\n",
    "import sklearn.metrics as metrics\n",
    "from sklearn.metrics import accuracy_score\n",
    "from sklearn.ensemble import RandomForestClassifier\n",
    "from sklearn.svm import SVC\n",
    "from sklearn.preprocessing import Normalizer\n",
    "from sklearn.neighbors import KNeighborsClassifier\n",
    "from sklearn.metrics import confusion_matrix, precision_score, recall_score, f1_score\n",
    "from sklearn.preprocessing import StandardScaler\n",
    "from sklearn.decomposition import PCA\n",
    "from sklearn.metrics import roc_curve\n",
    "from sklearn.metrics import roc_auc_score\n",
    "import matplotlib.pyplot as plt"
   ]
  },
  {
   "cell_type": "code",
   "execution_count": 155,
   "metadata": {},
   "outputs": [
    {
     "name": "stdout",
     "output_type": "stream",
     "text": [
      "X values\n",
      "[[0.05882353 0.02352941 0.02352941 ... 0.05882353 0.08235294 0.03529412]\n",
      " [0.03984064 0.0438247  0.06374502 ... 0.06374502 0.07171315 0.01195219]\n",
      " [0.06185567 0.02061856 0.1185567  ... 0.08762887 0.05154639 0.10309278]\n",
      " ...\n",
      " [0.08450704 0.04225352 0.02816901 ... 0.02816901 0.08450704 0.07042254]\n",
      " [0.0441989  0.05524862 0.0441989  ... 0.0441989  0.05524862 0.09392265]\n",
      " [0.04522613 0.05527638 0.05025126 ... 0.04522613 0.06030151 0.08542714]]\n",
      "Y values\n",
      "0       0.0\n",
      "1       0.0\n",
      "2       0.0\n",
      "3       0.0\n",
      "4       0.0\n",
      "       ... \n",
      "1216    1.0\n",
      "1217    1.0\n",
      "1218    1.0\n",
      "1219    1.0\n",
      "1220    1.0\n",
      "Name: 16, Length: 1221, dtype: float64\n"
     ]
    }
   ],
   "source": [
    "brisk_trained = pd.read_csv(\"D:\\College\\SEM 5\\CV\\FinalBRISK.csv\",header=None)\n",
    "def clean_dataset(df):\n",
    "    assert isinstance(df, pd.DataFrame), \"df needs to be a pd.DataFrame\"\n",
    "    df.dropna(inplace=True)\n",
    "    indices_to_keep = ~df.isin([np.nan, np.inf, -np.inf]).any(1)\n",
    "    return df[indices_to_keep].astype(np.float64)\n",
    "f_data = clean_dataset(brisk_trained)\n",
    "\n",
    "train_data = f_data\n",
    "\n",
    "\n",
    "#assigning x the columns from 1 to 27 for training\n",
    "x = train_data.iloc[:,0:16].values\n",
    "print(\"X values\")\n",
    "print(x)\n",
    "\n",
    "#assigning y with the column \"Class\" as target variable\n",
    "y = train_data.iloc[:,16]\n",
    "print(\"Y values\")\n",
    "print(y)\n"
   ]
  },
  {
   "cell_type": "code",
   "execution_count": 157,
   "metadata": {},
   "outputs": [],
   "source": [
    "x_train, x_test, y_train, y_test = train_test_split(x, y, test_size=.20, random_state=0)"
   ]
  },
  {
   "cell_type": "code",
   "execution_count": 158,
   "metadata": {},
   "outputs": [],
   "source": [
    "import joblib"
   ]
  },
  {
   "cell_type": "markdown",
   "metadata": {},
   "source": [
    "# Decision Tree\n"
   ]
  },
  {
   "cell_type": "code",
   "execution_count": 160,
   "metadata": {},
   "outputs": [
    {
     "name": "stdout",
     "output_type": "stream",
     "text": [
      "Decision Tree Results\n",
      "Decision Tree Accuracy:  62.44897959183674 %\n",
      "Train Accuracy: 0.9733606557377049\n",
      "Test Accuracy: 0.6244897959183674\n",
      "Precision Score:  0.6244897959183674\n",
      "Recall Score:  0.6244897959183674\n",
      "F2 Score:  0.6244897959183674\n",
      "F1 Score:  0.6244897959183674\n",
      "Confusion Matrix: \n",
      "[[110  43]\n",
      " [ 49  43]]\n"
     ]
    },
    {
     "name": "stderr",
     "output_type": "stream",
     "text": [
      "C:\\Users\\prath\\anaconda3\\lib\\site-packages\\sklearn\\metrics\\_classification.py:1386: UserWarning: Note that pos_label (set to 'positive') is ignored when average != 'binary' (got 'micro'). You may use labels=[pos_label] to specify a single positive class.\n",
      "  warnings.warn(\n",
      "C:\\Users\\prath\\anaconda3\\lib\\site-packages\\sklearn\\metrics\\_classification.py:1386: UserWarning: Note that pos_label (set to 'positive') is ignored when average != 'binary' (got 'micro'). You may use labels=[pos_label] to specify a single positive class.\n",
      "  warnings.warn(\n",
      "C:\\Users\\prath\\anaconda3\\lib\\site-packages\\sklearn\\metrics\\_classification.py:1386: UserWarning: Note that pos_label (set to 'positive') is ignored when average != 'binary' (got 'micro'). You may use labels=[pos_label] to specify a single positive class.\n",
      "  warnings.warn(\n",
      "C:\\Users\\prath\\anaconda3\\lib\\site-packages\\sklearn\\metrics\\_classification.py:1386: UserWarning: Note that pos_label (set to 'positive') is ignored when average != 'binary' (got 'micro'). You may use labels=[pos_label] to specify a single positive class.\n",
      "  warnings.warn(\n"
     ]
    }
   ],
   "source": [
    "from sklearn.metrics import accuracy_score\n",
    "#Assign model with Decision Tree classifier\n",
    "model_dt = DecisionTreeClassifier(max_depth=13)\n",
    "joblib.dump(model_dt,\"model_dt\")\n",
    "#training the model with the Training Variables \n",
    "model_dt.fit(x_train, y_train)\n",
    "#joblib.dump(model_dt,\"model_dt\")\n",
    "#predicting the traget variable using testing variables\n",
    "y_pred1 = model_dt.predict(x_test)\n",
    "#Results\n",
    "print(\"Decision Tree Results\")\n",
    "print(\"Decision Tree Accuracy: \",accuracy_score(y_test, y_pred1)*100,\"%\")\n",
    "print(\"Train Accuracy:\",model_dt.score(x_train, y_train))\n",
    "print(\"Test Accuracy:\",model_dt.score(x_test, y_test))\n",
    "print(\"Precision Score: \",metrics.precision_score(y_test, y_pred1, pos_label='positive', average='micro'))\n",
    "print(\"Recall Score: \",metrics.recall_score(y_test, y_pred1, pos_label='positive', average='micro')) # true positive rate, Sensitivity\n",
    "print(\"F2 Score: \",metrics.fbeta_score(y_test, y_pred1, pos_label='positive', average='micro', beta=2.0))\n",
    "print(\"F1 Score: \",metrics.f1_score(y_test, y_pred1, pos_label='positive', average='micro'))\n",
    "print(\"Confusion Matrix: \")\n",
    "print(confusion_matrix(y_test, y_pred1))"
   ]
  },
  {
   "cell_type": "markdown",
   "metadata": {},
   "source": [
    "# Random Forest"
   ]
  },
  {
   "cell_type": "code",
   "execution_count": 161,
   "metadata": {},
   "outputs": [
    {
     "name": "stdout",
     "output_type": "stream",
     "text": [
      "Random Forest Clasifier\n",
      "Train Accuracy: 1.0\n",
      "Test Accuracy: 0.689795918367347\n",
      "Precision Score:  0.689795918367347\n",
      "Recall Score:  0.689795918367347\n",
      "F1 Score:  0.689795918367347\n",
      "Confusion Matrix: \n",
      "[[141  12]\n",
      " [ 64  28]]\n"
     ]
    },
    {
     "name": "stderr",
     "output_type": "stream",
     "text": [
      "C:\\Users\\prath\\anaconda3\\lib\\site-packages\\sklearn\\metrics\\_classification.py:1386: UserWarning: Note that pos_label (set to 'positive') is ignored when average != 'binary' (got 'micro'). You may use labels=[pos_label] to specify a single positive class.\n",
      "  warnings.warn(\n",
      "C:\\Users\\prath\\anaconda3\\lib\\site-packages\\sklearn\\metrics\\_classification.py:1386: UserWarning: Note that pos_label (set to 'positive') is ignored when average != 'binary' (got 'micro'). You may use labels=[pos_label] to specify a single positive class.\n",
      "  warnings.warn(\n",
      "C:\\Users\\prath\\anaconda3\\lib\\site-packages\\sklearn\\metrics\\_classification.py:1386: UserWarning: Note that pos_label (set to 'positive') is ignored when average != 'binary' (got 'micro'). You may use labels=[pos_label] to specify a single positive class.\n",
      "  warnings.warn(\n"
     ]
    }
   ],
   "source": [
    "from sklearn.ensemble import RandomForestClassifier\n",
    "\n",
    "model_rf = RandomForestClassifier(n_estimators = 50)\n",
    "\n",
    "model_rf.fit(x_train, y_train)\n",
    "joblib.dump(model_rf,\"model_rf\")\n",
    "\n",
    "y_pred2 = model_rf.predict(x_test)\n",
    "print(\"Random Forest Clasifier\")\n",
    "print(\"Train Accuracy:\",model_rf.score(x_train, y_train))\n",
    "print(\"Test Accuracy:\",model_rf.score(x_test, y_test))\n",
    "print(\"Precision Score: \",metrics.precision_score(y_test, y_pred2, pos_label='positive', average='micro'))\n",
    "print(\"Recall Score: \",metrics.recall_score(y_test, y_pred2, pos_label='positive', average='micro'))\n",
    "print(\"F1 Score: \",metrics.f1_score(y_test, y_pred2, pos_label='positive', average='micro'))\n",
    "print(\"Confusion Matrix: \")\n",
    "print(confusion_matrix(y_test, y_pred2,))"
   ]
  },
  {
   "cell_type": "markdown",
   "metadata": {},
   "source": [
    "# KNN"
   ]
  },
  {
   "cell_type": "code",
   "execution_count": 162,
   "metadata": {},
   "outputs": [
    {
     "name": "stdout",
     "output_type": "stream",
     "text": [
      "KNN\n",
      "Train Accuracy: 0.7725409836065574\n",
      "Test Accuracy: 0.636734693877551\n",
      "Precision Score:  0.636734693877551\n",
      "Recall Score:  0.636734693877551\n",
      "F1 Score:  0.636734693877551\n"
     ]
    },
    {
     "name": "stderr",
     "output_type": "stream",
     "text": [
      "C:\\Users\\prath\\anaconda3\\lib\\site-packages\\sklearn\\metrics\\_classification.py:1386: UserWarning: Note that pos_label (set to 'positive') is ignored when average != 'binary' (got 'micro'). You may use labels=[pos_label] to specify a single positive class.\n",
      "  warnings.warn(\n",
      "C:\\Users\\prath\\anaconda3\\lib\\site-packages\\sklearn\\metrics\\_classification.py:1386: UserWarning: Note that pos_label (set to 'positive') is ignored when average != 'binary' (got 'micro'). You may use labels=[pos_label] to specify a single positive class.\n",
      "  warnings.warn(\n",
      "C:\\Users\\prath\\anaconda3\\lib\\site-packages\\sklearn\\metrics\\_classification.py:1386: UserWarning: Note that pos_label (set to 'positive') is ignored when average != 'binary' (got 'micro'). You may use labels=[pos_label] to specify a single positive class.\n",
      "  warnings.warn(\n"
     ]
    }
   ],
   "source": [
    "from sklearn.neighbors import KNeighborsClassifier\n",
    "model_knn = KNeighborsClassifier(n_neighbors = 5)\n",
    "model_knn.fit(x_train, y_train)\n",
    "#joblib.dump(model_knn,\"model_knn\")\n",
    "y_pred3 = model_knn.predict(x_test)\n",
    "print(\"KNN\")\n",
    "print(\"Train Accuracy:\",model_knn.score(x_train, y_train))\n",
    "print(\"Test Accuracy:\",model_knn.score(x_test, y_test))\n",
    "print(\"Precision Score: \",metrics.precision_score(y_test, y_pred3, pos_label='positive', average='micro'))\n",
    "print(\"Recall Score: \",metrics.recall_score(y_test, y_pred3, pos_label='positive', average='micro'))\n",
    "print(\"F1 Score: \",metrics.f1_score(y_test, y_pred3, pos_label='positive', average='micro'))\n"
   ]
  },
  {
   "cell_type": "markdown",
   "metadata": {},
   "source": [
    "# SVM Linear"
   ]
  },
  {
   "cell_type": "code",
   "execution_count": 163,
   "metadata": {},
   "outputs": [
    {
     "name": "stdout",
     "output_type": "stream",
     "text": [
      "SVM Linear kernel\n",
      "Train Accuracy: 0.6875\n",
      "Test Accuracy: 0.6244897959183674\n",
      "Precision Score:  0.6244897959183674\n",
      "Recall Score:  0.6244897959183674\n",
      "F1 Score:  0.6244897959183674\n"
     ]
    },
    {
     "name": "stderr",
     "output_type": "stream",
     "text": [
      "C:\\Users\\prath\\anaconda3\\lib\\site-packages\\sklearn\\metrics\\_classification.py:1386: UserWarning: Note that pos_label (set to 'positive') is ignored when average != 'binary' (got 'micro'). You may use labels=[pos_label] to specify a single positive class.\n",
      "  warnings.warn(\n",
      "C:\\Users\\prath\\anaconda3\\lib\\site-packages\\sklearn\\metrics\\_classification.py:1386: UserWarning: Note that pos_label (set to 'positive') is ignored when average != 'binary' (got 'micro'). You may use labels=[pos_label] to specify a single positive class.\n",
      "  warnings.warn(\n",
      "C:\\Users\\prath\\anaconda3\\lib\\site-packages\\sklearn\\metrics\\_classification.py:1386: UserWarning: Note that pos_label (set to 'positive') is ignored when average != 'binary' (got 'micro'). You may use labels=[pos_label] to specify a single positive class.\n",
      "  warnings.warn(\n"
     ]
    }
   ],
   "source": [
    "from sklearn import svm\n",
    "model_svm_l = svm.SVC(kernel='linear', C=1, decision_function_shape='ovo')\n",
    "model_svm_l.fit(x_train, y_train)\n",
    "#joblib.dump(model_svm_l,\"model_svm_l\")\n",
    "y_pred4 = model_svm_l.predict(x_test)\n",
    "print(\"SVM Linear kernel\")\n",
    "print(\"Train Accuracy:\",model_svm_l.score(x_train, y_train))\n",
    "print(\"Test Accuracy:\",model_svm_l.score(x_test, y_test))\n",
    "print(\"Precision Score: \",metrics.precision_score(y_test, y_pred4, pos_label='positive', average='micro'))\n",
    "print(\"Recall Score: \",metrics.recall_score(y_test, y_pred4, pos_label='positive', average='micro'))\n",
    "print(\"F1 Score: \",metrics.f1_score(y_test, y_pred4, pos_label='positive', average='micro'))\n"
   ]
  },
  {
   "cell_type": "markdown",
   "metadata": {},
   "source": [
    "# SVM Sigmoid"
   ]
  },
  {
   "cell_type": "code",
   "execution_count": 164,
   "metadata": {},
   "outputs": [
    {
     "name": "stdout",
     "output_type": "stream",
     "text": [
      "SVM Sigmoid kernel\n",
      "Train Accuracy: 0.6875\n",
      "Test Accuracy: 0.6244897959183674\n",
      "Precision Score:  0.6244897959183674\n",
      "Recall Score:  0.6244897959183674\n",
      "F1 Score:  0.6244897959183674\n"
     ]
    },
    {
     "name": "stderr",
     "output_type": "stream",
     "text": [
      "C:\\Users\\prath\\anaconda3\\lib\\site-packages\\sklearn\\metrics\\_classification.py:1386: UserWarning: Note that pos_label (set to 'positive') is ignored when average != 'binary' (got 'micro'). You may use labels=[pos_label] to specify a single positive class.\n",
      "  warnings.warn(\n",
      "C:\\Users\\prath\\anaconda3\\lib\\site-packages\\sklearn\\metrics\\_classification.py:1386: UserWarning: Note that pos_label (set to 'positive') is ignored when average != 'binary' (got 'micro'). You may use labels=[pos_label] to specify a single positive class.\n",
      "  warnings.warn(\n",
      "C:\\Users\\prath\\anaconda3\\lib\\site-packages\\sklearn\\metrics\\_classification.py:1386: UserWarning: Note that pos_label (set to 'positive') is ignored when average != 'binary' (got 'micro'). You may use labels=[pos_label] to specify a single positive class.\n",
      "  warnings.warn(\n"
     ]
    }
   ],
   "source": [
    "from sklearn import svm\n",
    "model_svm_s = svm.SVC(kernel='sigmoid', C=1, decision_function_shape='ovo')\n",
    "model_svm_s.fit(x_train, y_train)\n",
    "joblib.dump(model_svm_s,\"model_svm_s\")\n",
    "y_pred5 = model_svm_s.predict(x_test)\n",
    "print(\"SVM Sigmoid kernel\")\n",
    "print(\"Train Accuracy:\",model_svm_s.score(x_train, y_train))\n",
    "print(\"Test Accuracy:\",model_svm_s.score(x_test, y_test))\n",
    "print(\"Precision Score: \",metrics.precision_score(y_test, y_pred5, pos_label='positive', average='micro'))\n",
    "print(\"Recall Score: \",metrics.recall_score(y_test, y_pred5, pos_label='positive', average='micro'))\n",
    "print(\"F1 Score: \",metrics.f1_score(y_test, y_pred5, pos_label='positive', average='micro'))\n"
   ]
  },
  {
   "cell_type": "markdown",
   "metadata": {},
   "source": [
    "# SVM POLY"
   ]
  },
  {
   "cell_type": "code",
   "execution_count": 165,
   "metadata": {},
   "outputs": [
    {
     "name": "stdout",
     "output_type": "stream",
     "text": [
      "SVM Poly kernel\n",
      "Train Accuracy: 0.8504098360655737\n",
      "Test Accuracy: 0.6530612244897959\n",
      "Precision Score:  0.6530612244897959\n",
      "Recall Score:  0.6530612244897959\n",
      "F1 Score:  0.6530612244897959\n"
     ]
    },
    {
     "name": "stderr",
     "output_type": "stream",
     "text": [
      "C:\\Users\\prath\\anaconda3\\lib\\site-packages\\sklearn\\metrics\\_classification.py:1386: UserWarning: Note that pos_label (set to 'positive') is ignored when average != 'binary' (got 'micro'). You may use labels=[pos_label] to specify a single positive class.\n",
      "  warnings.warn(\n",
      "C:\\Users\\prath\\anaconda3\\lib\\site-packages\\sklearn\\metrics\\_classification.py:1386: UserWarning: Note that pos_label (set to 'positive') is ignored when average != 'binary' (got 'micro'). You may use labels=[pos_label] to specify a single positive class.\n",
      "  warnings.warn(\n",
      "C:\\Users\\prath\\anaconda3\\lib\\site-packages\\sklearn\\metrics\\_classification.py:1386: UserWarning: Note that pos_label (set to 'positive') is ignored when average != 'binary' (got 'micro'). You may use labels=[pos_label] to specify a single positive class.\n",
      "  warnings.warn(\n"
     ]
    }
   ],
   "source": [
    "from sklearn import svm\n",
    "model_svm_p = svm.SVC(kernel='poly', degree=3, C=1, decision_function_shape='ovo')\n",
    "model_svm_p.fit(x_train, y_train)\n",
    "joblib.dump(model_svm_p,\"model_svm_p\")\n",
    "y_pred6 = model_svm_p.predict(x_test)\n",
    "print(\"SVM Poly kernel\")\n",
    "print(\"Train Accuracy:\",model_svm_p.score(x_train, y_train))\n",
    "print(\"Test Accuracy:\",model_svm_p.score(x_test, y_test))\n",
    "print(\"Precision Score: \",metrics.precision_score(y_test, y_pred6, pos_label='positive', average='micro'))\n",
    "print(\"Recall Score: \",metrics.recall_score(y_test, y_pred6, pos_label='positive', average='micro'))\n",
    "print(\"F1 Score: \",metrics.f1_score(y_test, y_pred6, pos_label='positive', average='micro'))"
   ]
  },
  {
   "cell_type": "markdown",
   "metadata": {},
   "source": [
    "# RBF"
   ]
  },
  {
   "cell_type": "code",
   "execution_count": 166,
   "metadata": {},
   "outputs": [
    {
     "name": "stdout",
     "output_type": "stream",
     "text": [
      "SVM RBF kernel\n",
      "Train Accuracy: 0.6875\n",
      "Test Accuracy: 0.6244897959183674\n",
      "Precision Score:  0.6244897959183674\n",
      "Recall Score:  0.6244897959183674\n",
      "F1 Score:  0.6244897959183674\n"
     ]
    },
    {
     "name": "stderr",
     "output_type": "stream",
     "text": [
      "C:\\Users\\prath\\anaconda3\\lib\\site-packages\\sklearn\\metrics\\_classification.py:1386: UserWarning: Note that pos_label (set to 'positive') is ignored when average != 'binary' (got 'micro'). You may use labels=[pos_label] to specify a single positive class.\n",
      "  warnings.warn(\n",
      "C:\\Users\\prath\\anaconda3\\lib\\site-packages\\sklearn\\metrics\\_classification.py:1386: UserWarning: Note that pos_label (set to 'positive') is ignored when average != 'binary' (got 'micro'). You may use labels=[pos_label] to specify a single positive class.\n",
      "  warnings.warn(\n",
      "C:\\Users\\prath\\anaconda3\\lib\\site-packages\\sklearn\\metrics\\_classification.py:1386: UserWarning: Note that pos_label (set to 'positive') is ignored when average != 'binary' (got 'micro'). You may use labels=[pos_label] to specify a single positive class.\n",
      "  warnings.warn(\n"
     ]
    }
   ],
   "source": [
    "from sklearn import svm\n",
    "model_svm_r = svm.SVC(kernel='rbf', gamma=1, C=1, decision_function_shape='ovo')\n",
    "model_svm_r.fit(x_train, y_train)\n",
    "joblib.dump(model_svm_r,\"model_svm_r\")\n",
    "y_pred7 = model_svm_r.predict(x_test)\n",
    "print(\"SVM RBF kernel\")\n",
    "print(\"Train Accuracy:\",model_svm_r.score(x_train, y_train))\n",
    "print(\"Test Accuracy:\",model_svm_r.score(x_test, y_test))\n",
    "print(\"Precision Score: \",metrics.precision_score(y_test, y_pred7, pos_label='positive', average='micro'))\n",
    "print(\"Recall Score: \",metrics.recall_score(y_test, y_pred7, pos_label='positive', average='micro'))\n",
    "print(\"F1 Score: \",metrics.f1_score(y_test, y_pred7, pos_label='positive', average='micro'))"
   ]
  },
  {
   "cell_type": "markdown",
   "metadata": {},
   "source": [
    "# GAUSSION NAVIE BAYES "
   ]
  },
  {
   "cell_type": "code",
   "execution_count": 167,
   "metadata": {},
   "outputs": [
    {
     "name": "stdout",
     "output_type": "stream",
     "text": [
      "Gaussian NB\n",
      "Train Accuracy: 0.7131147540983607\n",
      "Test Accuracy: 0.6530612244897959\n",
      "Precision Score:  0.6530612244897959\n",
      "Recall Score:  0.6530612244897959\n",
      "F1 Score:  0.6530612244897959\n"
     ]
    },
    {
     "name": "stderr",
     "output_type": "stream",
     "text": [
      "C:\\Users\\prath\\anaconda3\\lib\\site-packages\\sklearn\\metrics\\_classification.py:1386: UserWarning: Note that pos_label (set to 'positive') is ignored when average != 'binary' (got 'micro'). You may use labels=[pos_label] to specify a single positive class.\n",
      "  warnings.warn(\n",
      "C:\\Users\\prath\\anaconda3\\lib\\site-packages\\sklearn\\metrics\\_classification.py:1386: UserWarning: Note that pos_label (set to 'positive') is ignored when average != 'binary' (got 'micro'). You may use labels=[pos_label] to specify a single positive class.\n",
      "  warnings.warn(\n",
      "C:\\Users\\prath\\anaconda3\\lib\\site-packages\\sklearn\\metrics\\_classification.py:1386: UserWarning: Note that pos_label (set to 'positive') is ignored when average != 'binary' (got 'micro'). You may use labels=[pos_label] to specify a single positive class.\n",
      "  warnings.warn(\n"
     ]
    }
   ],
   "source": [
    "from sklearn.naive_bayes import GaussianNB\n",
    "model_nb = GaussianNB().fit(x_train, y_train)\n",
    "joblib.dump(model_nb,\"model_nb\")\n",
    "y_pred8 = model_nb.predict(x_test)\n",
    "print(\"Gaussian NB\")\n",
    "print(\"Train Accuracy:\",model_nb.score(x_train, y_train))\n",
    "print(\"Test Accuracy:\",model_nb.score(x_test, y_test))\n",
    "print(\"Precision Score: \",metrics.precision_score(y_test, y_pred8, pos_label='positive', average='micro'))\n",
    "print(\"Recall Score: \",metrics.recall_score(y_test, y_pred8, pos_label='positive', average='micro'))\n",
    "print(\"F1 Score: \",metrics.f1_score(y_test, y_pred8, pos_label='positive', average='micro'))"
   ]
  },
  {
   "cell_type": "markdown",
   "metadata": {},
   "source": [
    "# VOTING CLASSIFIER"
   ]
  },
  {
   "cell_type": "code",
   "execution_count": 168,
   "metadata": {},
   "outputs": [
    {
     "name": "stdout",
     "output_type": "stream",
     "text": [
      "Voting Classifier Hard\n",
      "Train Accuracy: 0.9077868852459017\n",
      "Test Accuracy: 0.673469387755102\n",
      "Precision Score:  0.673469387755102\n",
      "Recall Score:  0.673469387755102\n",
      "F2 Score:  0.673469387755102\n",
      "F1 Score:  0.673469387755102\n",
      "Confusion Matrix: \n",
      "[[136  17]\n",
      " [ 63  29]]\n"
     ]
    },
    {
     "name": "stderr",
     "output_type": "stream",
     "text": [
      "C:\\Users\\prath\\anaconda3\\lib\\site-packages\\sklearn\\metrics\\_classification.py:1386: UserWarning: Note that pos_label (set to 'positive') is ignored when average != 'binary' (got 'micro'). You may use labels=[pos_label] to specify a single positive class.\n",
      "  warnings.warn(\n",
      "C:\\Users\\prath\\anaconda3\\lib\\site-packages\\sklearn\\metrics\\_classification.py:1386: UserWarning: Note that pos_label (set to 'positive') is ignored when average != 'binary' (got 'micro'). You may use labels=[pos_label] to specify a single positive class.\n",
      "  warnings.warn(\n",
      "C:\\Users\\prath\\anaconda3\\lib\\site-packages\\sklearn\\metrics\\_classification.py:1386: UserWarning: Note that pos_label (set to 'positive') is ignored when average != 'binary' (got 'micro'). You may use labels=[pos_label] to specify a single positive class.\n",
      "  warnings.warn(\n",
      "C:\\Users\\prath\\anaconda3\\lib\\site-packages\\sklearn\\metrics\\_classification.py:1386: UserWarning: Note that pos_label (set to 'positive') is ignored when average != 'binary' (got 'micro'). You may use labels=[pos_label] to specify a single positive class.\n",
      "  warnings.warn(\n"
     ]
    }
   ],
   "source": [
    "from sklearn.ensemble import VotingClassifier\n",
    "\n",
    "model_voting = VotingClassifier( estimators=[('DT', model_dt ), ('RF', model_rf),('KNN', model_knn), ('SCVP', model_svm_p), \n",
    "                                           ('GuassianNB', model_nb)], voting='hard')\n",
    "model_voting.fit(x_train, y_train)\n",
    "voting_pred = model_voting.predict(x_test)\n",
    "joblib.dump(model_voting,\"model_voting\")\n",
    "CM = confusion_matrix(y_test, voting_pred)\n",
    "print(\"Voting Classifier Hard\")\n",
    "print(\"Train Accuracy:\",model_voting.score(x_train, y_train))\n",
    "print(\"Test Accuracy:\",model_voting.score(x_test, y_test))\n",
    "print(\"Precision Score: \",metrics.precision_score(y_test, voting_pred,pos_label='positive', average='micro'))\n",
    "print(\"Recall Score: \",metrics.recall_score(y_test, voting_pred,pos_label='positive', average='micro'))\n",
    "print(\"F2 Score: \",metrics.fbeta_score(y_test, voting_pred,pos_label='positive', average='micro',beta=2.0))\n",
    "print(\"F1 Score: \",metrics.f1_score(y_test, voting_pred,pos_label='positive', average='micro'))\n",
    "print(\"Confusion Matrix: \")\n",
    "print(confusion_matrix(y_test, voting_pred))"
   ]
  },
  {
   "cell_type": "code",
   "execution_count": 138,
   "metadata": {},
   "outputs": [
    {
     "data": {
      "text/html": [
       "<style>#sk-container-id-8 {color: black;background-color: white;}#sk-container-id-8 pre{padding: 0;}#sk-container-id-8 div.sk-toggleable {background-color: white;}#sk-container-id-8 label.sk-toggleable__label {cursor: pointer;display: block;width: 100%;margin-bottom: 0;padding: 0.3em;box-sizing: border-box;text-align: center;}#sk-container-id-8 label.sk-toggleable__label-arrow:before {content: \"▸\";float: left;margin-right: 0.25em;color: #696969;}#sk-container-id-8 label.sk-toggleable__label-arrow:hover:before {color: black;}#sk-container-id-8 div.sk-estimator:hover label.sk-toggleable__label-arrow:before {color: black;}#sk-container-id-8 div.sk-toggleable__content {max-height: 0;max-width: 0;overflow: hidden;text-align: left;background-color: #f0f8ff;}#sk-container-id-8 div.sk-toggleable__content pre {margin: 0.2em;color: black;border-radius: 0.25em;background-color: #f0f8ff;}#sk-container-id-8 input.sk-toggleable__control:checked~div.sk-toggleable__content {max-height: 200px;max-width: 100%;overflow: auto;}#sk-container-id-8 input.sk-toggleable__control:checked~label.sk-toggleable__label-arrow:before {content: \"▾\";}#sk-container-id-8 div.sk-estimator input.sk-toggleable__control:checked~label.sk-toggleable__label {background-color: #d4ebff;}#sk-container-id-8 div.sk-label input.sk-toggleable__control:checked~label.sk-toggleable__label {background-color: #d4ebff;}#sk-container-id-8 input.sk-hidden--visually {border: 0;clip: rect(1px 1px 1px 1px);clip: rect(1px, 1px, 1px, 1px);height: 1px;margin: -1px;overflow: hidden;padding: 0;position: absolute;width: 1px;}#sk-container-id-8 div.sk-estimator {font-family: monospace;background-color: #f0f8ff;border: 1px dotted black;border-radius: 0.25em;box-sizing: border-box;margin-bottom: 0.5em;}#sk-container-id-8 div.sk-estimator:hover {background-color: #d4ebff;}#sk-container-id-8 div.sk-parallel-item::after {content: \"\";width: 100%;border-bottom: 1px solid gray;flex-grow: 1;}#sk-container-id-8 div.sk-label:hover label.sk-toggleable__label {background-color: #d4ebff;}#sk-container-id-8 div.sk-serial::before {content: \"\";position: absolute;border-left: 1px solid gray;box-sizing: border-box;top: 0;bottom: 0;left: 50%;z-index: 0;}#sk-container-id-8 div.sk-serial {display: flex;flex-direction: column;align-items: center;background-color: white;padding-right: 0.2em;padding-left: 0.2em;position: relative;}#sk-container-id-8 div.sk-item {position: relative;z-index: 1;}#sk-container-id-8 div.sk-parallel {display: flex;align-items: stretch;justify-content: center;background-color: white;position: relative;}#sk-container-id-8 div.sk-item::before, #sk-container-id-8 div.sk-parallel-item::before {content: \"\";position: absolute;border-left: 1px solid gray;box-sizing: border-box;top: 0;bottom: 0;left: 50%;z-index: -1;}#sk-container-id-8 div.sk-parallel-item {display: flex;flex-direction: column;z-index: 1;position: relative;background-color: white;}#sk-container-id-8 div.sk-parallel-item:first-child::after {align-self: flex-end;width: 50%;}#sk-container-id-8 div.sk-parallel-item:last-child::after {align-self: flex-start;width: 50%;}#sk-container-id-8 div.sk-parallel-item:only-child::after {width: 0;}#sk-container-id-8 div.sk-dashed-wrapped {border: 1px dashed gray;margin: 0 0.4em 0.5em 0.4em;box-sizing: border-box;padding-bottom: 0.4em;background-color: white;}#sk-container-id-8 div.sk-label label {font-family: monospace;font-weight: bold;display: inline-block;line-height: 1.2em;}#sk-container-id-8 div.sk-label-container {text-align: center;}#sk-container-id-8 div.sk-container {/* jupyter's `normalize.less` sets `[hidden] { display: none; }` but bootstrap.min.css set `[hidden] { display: none !important; }` so we also need the `!important` here to be able to override the default hidden behavior on the sphinx rendered scikit-learn.org. See: https://github.com/scikit-learn/scikit-learn/issues/21755 */display: inline-block !important;position: relative;}#sk-container-id-8 div.sk-text-repr-fallback {display: none;}</style><div id=\"sk-container-id-8\" class=\"sk-top-container\"><div class=\"sk-text-repr-fallback\"><pre>PCA(n_components=13)</pre><b>In a Jupyter environment, please rerun this cell to show the HTML representation or trust the notebook. <br />On GitHub, the HTML representation is unable to render, please try loading this page with nbviewer.org.</b></div><div class=\"sk-container\" hidden><div class=\"sk-item\"><div class=\"sk-estimator sk-toggleable\"><input class=\"sk-toggleable__control sk-hidden--visually\" id=\"sk-estimator-id-8\" type=\"checkbox\" checked><label for=\"sk-estimator-id-8\" class=\"sk-toggleable__label sk-toggleable__label-arrow\">PCA</label><div class=\"sk-toggleable__content\"><pre>PCA(n_components=13)</pre></div></div></div></div></div>"
      ],
      "text/plain": [
       "PCA(n_components=13)"
      ]
     },
     "execution_count": 138,
     "metadata": {},
     "output_type": "execute_result"
    }
   ],
   "source": []
  },
  {
   "cell_type": "code",
   "execution_count": 176,
   "metadata": {},
   "outputs": [
    {
     "name": "stdout",
     "output_type": "stream",
     "text": [
      "X values\n",
      "[[0.05882353 0.02352941 0.02352941 ... 0.05882353 0.08235294 0.03529412]\n",
      " [0.03984064 0.0438247  0.06374502 ... 0.06374502 0.07171315 0.01195219]\n",
      " [0.06185567 0.02061856 0.1185567  ... 0.08762887 0.05154639 0.10309278]\n",
      " ...\n",
      " [0.08450704 0.04225352 0.02816901 ... 0.02816901 0.08450704 0.07042254]\n",
      " [0.0441989  0.05524862 0.0441989  ... 0.0441989  0.05524862 0.09392265]\n",
      " [0.04522613 0.05527638 0.05025126 ... 0.04522613 0.06030151 0.08542714]]\n",
      "Y values\n",
      "0       0.0\n",
      "1       0.0\n",
      "2       0.0\n",
      "3       0.0\n",
      "4       0.0\n",
      "       ... \n",
      "1216    1.0\n",
      "1217    1.0\n",
      "1218    1.0\n",
      "1219    1.0\n",
      "1220    1.0\n",
      "Name: 16, Length: 1221, dtype: float64\n"
     ]
    }
   ],
   "source": [
    "freak_trained = pd.read_csv(\"D:\\College\\SEM 5\\CV\\FinalFREAK.csv\",header=None)\n",
    "def clean_dataset(df):\n",
    "    assert isinstance(df, pd.DataFrame), \"df needs to be a pd.DataFrame\"\n",
    "    df.dropna(inplace=True)\n",
    "    indices_to_keep = ~df.isin([np.nan, np.inf, -np.inf]).any(1)\n",
    "    return df[indices_to_keep].astype(np.float64)\n",
    "f_data = clean_dataset(brisk_trained)\n",
    "\n",
    "train_data = f_data\n",
    "\n",
    "\n",
    "#assigning x the columns from 1 to 27 for training\n",
    "x = train_data.iloc[:,0:16].values\n",
    "print(\"X values\")\n",
    "print(x)\n",
    "\n",
    "#assigning y with the column \"Class\" as target variable\n",
    "y = train_data.iloc[:,16]\n",
    "print(\"Y values\")\n",
    "print(y)"
   ]
  },
  {
   "cell_type": "code",
   "execution_count": 177,
   "metadata": {},
   "outputs": [],
   "source": [
    "x_train, x_test, y_train, y_test = train_test_split(x, y, test_size=.20, random_state=0)"
   ]
  },
  {
   "cell_type": "code",
   "execution_count": 178,
   "metadata": {},
   "outputs": [],
   "source": [
    "import joblib"
   ]
  },
  {
   "cell_type": "markdown",
   "metadata": {},
   "source": [
    "# Decision Tree"
   ]
  },
  {
   "cell_type": "code",
   "execution_count": 179,
   "metadata": {},
   "outputs": [
    {
     "name": "stdout",
     "output_type": "stream",
     "text": [
      "Decision Tree Results\n",
      "Decision Tree Accuracy:  61.63265306122449 %\n",
      "Train Accuracy: 0.9733606557377049\n",
      "Test Accuracy: 0.6163265306122448\n",
      "Precision Score:  0.6163265306122448\n",
      "Recall Score:  0.6163265306122448\n",
      "F2 Score:  0.6163265306122448\n",
      "F1 Score:  0.6163265306122448\n",
      "Confusion Matrix: \n",
      "[[113  40]\n",
      " [ 54  38]]\n"
     ]
    },
    {
     "name": "stderr",
     "output_type": "stream",
     "text": [
      "C:\\Users\\prath\\anaconda3\\lib\\site-packages\\sklearn\\metrics\\_classification.py:1386: UserWarning: Note that pos_label (set to 'positive') is ignored when average != 'binary' (got 'micro'). You may use labels=[pos_label] to specify a single positive class.\n",
      "  warnings.warn(\n",
      "C:\\Users\\prath\\anaconda3\\lib\\site-packages\\sklearn\\metrics\\_classification.py:1386: UserWarning: Note that pos_label (set to 'positive') is ignored when average != 'binary' (got 'micro'). You may use labels=[pos_label] to specify a single positive class.\n",
      "  warnings.warn(\n",
      "C:\\Users\\prath\\anaconda3\\lib\\site-packages\\sklearn\\metrics\\_classification.py:1386: UserWarning: Note that pos_label (set to 'positive') is ignored when average != 'binary' (got 'micro'). You may use labels=[pos_label] to specify a single positive class.\n",
      "  warnings.warn(\n",
      "C:\\Users\\prath\\anaconda3\\lib\\site-packages\\sklearn\\metrics\\_classification.py:1386: UserWarning: Note that pos_label (set to 'positive') is ignored when average != 'binary' (got 'micro'). You may use labels=[pos_label] to specify a single positive class.\n",
      "  warnings.warn(\n"
     ]
    }
   ],
   "source": [
    "from sklearn.metrics import accuracy_score\n",
    "#Assign model with Decision Tree classifier\n",
    "model_dt = DecisionTreeClassifier(max_depth=13)\n",
    "joblib.dump(model_dt,\"model_dt\")\n",
    "#training the model with the Training Variables \n",
    "model_dt.fit(x_train, y_train)\n",
    "#joblib.dump(model_dt,\"model_dt\")\n",
    "#predicting the traget variable using testing variables\n",
    "y_pred1 = model_dt.predict(x_test)\n",
    "#Results\n",
    "print(\"Decision Tree Results\")\n",
    "print(\"Decision Tree Accuracy: \",accuracy_score(y_test, y_pred1)*100,\"%\")\n",
    "print(\"Train Accuracy:\",model_dt.score(x_train, y_train))\n",
    "print(\"Test Accuracy:\",model_dt.score(x_test, y_test))\n",
    "print(\"Precision Score: \",metrics.precision_score(y_test, y_pred1, pos_label='positive', average='micro'))\n",
    "print(\"Recall Score: \",metrics.recall_score(y_test, y_pred1, pos_label='positive', average='micro')) # true positive rate, Sensitivity\n",
    "print(\"F2 Score: \",metrics.fbeta_score(y_test, y_pred1, pos_label='positive', average='micro', beta=2.0))\n",
    "print(\"F1 Score: \",metrics.f1_score(y_test, y_pred1, pos_label='positive', average='micro'))\n",
    "print(\"Confusion Matrix: \")\n",
    "print(confusion_matrix(y_test, y_pred1))"
   ]
  },
  {
   "cell_type": "markdown",
   "metadata": {},
   "source": [
    "# Random Forest"
   ]
  },
  {
   "cell_type": "markdown",
   "metadata": {},
   "source": []
  },
  {
   "cell_type": "code",
   "execution_count": 180,
   "metadata": {},
   "outputs": [
    {
     "name": "stdout",
     "output_type": "stream",
     "text": [
      "Random Forest Clasifier\n",
      "Train Accuracy: 1.0\n",
      "Test Accuracy: 0.6693877551020408\n",
      "Precision Score:  0.6693877551020408\n",
      "Recall Score:  0.6693877551020408\n",
      "F1 Score:  0.6693877551020408\n",
      "Confusion Matrix: \n",
      "[[140  13]\n",
      " [ 68  24]]\n"
     ]
    },
    {
     "name": "stderr",
     "output_type": "stream",
     "text": [
      "C:\\Users\\prath\\anaconda3\\lib\\site-packages\\sklearn\\metrics\\_classification.py:1386: UserWarning: Note that pos_label (set to 'positive') is ignored when average != 'binary' (got 'micro'). You may use labels=[pos_label] to specify a single positive class.\n",
      "  warnings.warn(\n",
      "C:\\Users\\prath\\anaconda3\\lib\\site-packages\\sklearn\\metrics\\_classification.py:1386: UserWarning: Note that pos_label (set to 'positive') is ignored when average != 'binary' (got 'micro'). You may use labels=[pos_label] to specify a single positive class.\n",
      "  warnings.warn(\n",
      "C:\\Users\\prath\\anaconda3\\lib\\site-packages\\sklearn\\metrics\\_classification.py:1386: UserWarning: Note that pos_label (set to 'positive') is ignored when average != 'binary' (got 'micro'). You may use labels=[pos_label] to specify a single positive class.\n",
      "  warnings.warn(\n"
     ]
    }
   ],
   "source": [
    "from sklearn.ensemble import RandomForestClassifier\n",
    "\n",
    "model_rf = RandomForestClassifier(n_estimators = 50)\n",
    "\n",
    "model_rf.fit(x_train, y_train)\n",
    "joblib.dump(model_rf,\"model_rf\")\n",
    "\n",
    "y_pred2 = model_rf.predict(x_test)\n",
    "print(\"Random Forest Clasifier\")\n",
    "print(\"Train Accuracy:\",model_rf.score(x_train, y_train))\n",
    "print(\"Test Accuracy:\",model_rf.score(x_test, y_test))\n",
    "print(\"Precision Score: \",metrics.precision_score(y_test, y_pred2, pos_label='positive', average='micro'))\n",
    "print(\"Recall Score: \",metrics.recall_score(y_test, y_pred2, pos_label='positive', average='micro'))\n",
    "print(\"F1 Score: \",metrics.f1_score(y_test, y_pred2, pos_label='positive', average='micro'))\n",
    "print(\"Confusion Matrix: \")\n",
    "print(confusion_matrix(y_test, y_pred2,))"
   ]
  },
  {
   "cell_type": "markdown",
   "metadata": {},
   "source": [
    "# KNN"
   ]
  },
  {
   "cell_type": "code",
   "execution_count": 181,
   "metadata": {},
   "outputs": [
    {
     "name": "stdout",
     "output_type": "stream",
     "text": [
      "KNN\n",
      "Train Accuracy: 0.7725409836065574\n",
      "Test Accuracy: 0.636734693877551\n",
      "Precision Score:  0.636734693877551\n",
      "Recall Score:  0.636734693877551\n",
      "F1 Score:  0.636734693877551\n"
     ]
    },
    {
     "name": "stderr",
     "output_type": "stream",
     "text": [
      "C:\\Users\\prath\\anaconda3\\lib\\site-packages\\sklearn\\metrics\\_classification.py:1386: UserWarning: Note that pos_label (set to 'positive') is ignored when average != 'binary' (got 'micro'). You may use labels=[pos_label] to specify a single positive class.\n",
      "  warnings.warn(\n",
      "C:\\Users\\prath\\anaconda3\\lib\\site-packages\\sklearn\\metrics\\_classification.py:1386: UserWarning: Note that pos_label (set to 'positive') is ignored when average != 'binary' (got 'micro'). You may use labels=[pos_label] to specify a single positive class.\n",
      "  warnings.warn(\n",
      "C:\\Users\\prath\\anaconda3\\lib\\site-packages\\sklearn\\metrics\\_classification.py:1386: UserWarning: Note that pos_label (set to 'positive') is ignored when average != 'binary' (got 'micro'). You may use labels=[pos_label] to specify a single positive class.\n",
      "  warnings.warn(\n"
     ]
    }
   ],
   "source": [
    "from sklearn.neighbors import KNeighborsClassifier\n",
    "model_knn = KNeighborsClassifier(n_neighbors = 5)\n",
    "model_knn.fit(x_train, y_train)\n",
    "#joblib.dump(model_knn,\"model_knn\")\n",
    "y_pred3 = model_knn.predict(x_test)\n",
    "print(\"KNN\")\n",
    "print(\"Train Accuracy:\",model_knn.score(x_train, y_train))\n",
    "print(\"Test Accuracy:\",model_knn.score(x_test, y_test))\n",
    "print(\"Precision Score: \",metrics.precision_score(y_test, y_pred3, pos_label='positive', average='micro'))\n",
    "print(\"Recall Score: \",metrics.recall_score(y_test, y_pred3, pos_label='positive', average='micro'))\n",
    "print(\"F1 Score: \",metrics.f1_score(y_test, y_pred3, pos_label='positive', average='micro'))\n"
   ]
  },
  {
   "cell_type": "markdown",
   "metadata": {},
   "source": [
    "# SVM Linear"
   ]
  },
  {
   "cell_type": "code",
   "execution_count": 182,
   "metadata": {},
   "outputs": [
    {
     "name": "stdout",
     "output_type": "stream",
     "text": [
      "SVM Linear kernel\n",
      "Train Accuracy: 0.6875\n",
      "Test Accuracy: 0.6244897959183674\n",
      "Precision Score:  0.6244897959183674\n",
      "Recall Score:  0.6244897959183674\n",
      "F1 Score:  0.6244897959183674\n"
     ]
    },
    {
     "name": "stderr",
     "output_type": "stream",
     "text": [
      "C:\\Users\\prath\\anaconda3\\lib\\site-packages\\sklearn\\metrics\\_classification.py:1386: UserWarning: Note that pos_label (set to 'positive') is ignored when average != 'binary' (got 'micro'). You may use labels=[pos_label] to specify a single positive class.\n",
      "  warnings.warn(\n",
      "C:\\Users\\prath\\anaconda3\\lib\\site-packages\\sklearn\\metrics\\_classification.py:1386: UserWarning: Note that pos_label (set to 'positive') is ignored when average != 'binary' (got 'micro'). You may use labels=[pos_label] to specify a single positive class.\n",
      "  warnings.warn(\n",
      "C:\\Users\\prath\\anaconda3\\lib\\site-packages\\sklearn\\metrics\\_classification.py:1386: UserWarning: Note that pos_label (set to 'positive') is ignored when average != 'binary' (got 'micro'). You may use labels=[pos_label] to specify a single positive class.\n",
      "  warnings.warn(\n"
     ]
    }
   ],
   "source": [
    "from sklearn import svm\n",
    "model_svm_l = svm.SVC(kernel='linear', C=1, decision_function_shape='ovo')\n",
    "model_svm_l.fit(x_train, y_train)\n",
    "#joblib.dump(model_svm_l,\"model_svm_l\")\n",
    "y_pred4 = model_svm_l.predict(x_test)\n",
    "print(\"SVM Linear kernel\")\n",
    "print(\"Train Accuracy:\",model_svm_l.score(x_train, y_train))\n",
    "print(\"Test Accuracy:\",model_svm_l.score(x_test, y_test))\n",
    "print(\"Precision Score: \",metrics.precision_score(y_test, y_pred4, pos_label='positive', average='micro'))\n",
    "print(\"Recall Score: \",metrics.recall_score(y_test, y_pred4, pos_label='positive', average='micro'))\n",
    "print(\"F1 Score: \",metrics.f1_score(y_test, y_pred4, pos_label='positive', average='micro'))\n",
    "\n"
   ]
  },
  {
   "cell_type": "code",
   "execution_count": 151,
   "metadata": {},
   "outputs": [
    {
     "data": {
      "text/plain": [
       "546     0.061728\n",
       "902     0.036866\n",
       "1037    0.070796\n",
       "422     0.057416\n",
       "85      0.057851\n",
       "          ...   \n",
       "763     0.062857\n",
       "835     0.054054\n",
       "1216    0.079832\n",
       "559     0.039326\n",
       "684     0.043011\n",
       "Name: 13, Length: 976, dtype: float64"
      ]
     },
     "execution_count": 151,
     "metadata": {},
     "output_type": "execute_result"
    }
   ],
   "source": []
  },
  {
   "cell_type": "markdown",
   "metadata": {},
   "source": [
    "# SVM Sigmoid"
   ]
  },
  {
   "cell_type": "code",
   "execution_count": 183,
   "metadata": {},
   "outputs": [
    {
     "name": "stdout",
     "output_type": "stream",
     "text": [
      "SVM Sigmoid kernel\n",
      "Train Accuracy: 0.6875\n",
      "Test Accuracy: 0.6244897959183674\n",
      "Precision Score:  0.6244897959183674\n",
      "Recall Score:  0.6244897959183674\n",
      "F1 Score:  0.6244897959183674\n"
     ]
    },
    {
     "name": "stderr",
     "output_type": "stream",
     "text": [
      "C:\\Users\\prath\\anaconda3\\lib\\site-packages\\sklearn\\metrics\\_classification.py:1386: UserWarning: Note that pos_label (set to 'positive') is ignored when average != 'binary' (got 'micro'). You may use labels=[pos_label] to specify a single positive class.\n",
      "  warnings.warn(\n",
      "C:\\Users\\prath\\anaconda3\\lib\\site-packages\\sklearn\\metrics\\_classification.py:1386: UserWarning: Note that pos_label (set to 'positive') is ignored when average != 'binary' (got 'micro'). You may use labels=[pos_label] to specify a single positive class.\n",
      "  warnings.warn(\n",
      "C:\\Users\\prath\\anaconda3\\lib\\site-packages\\sklearn\\metrics\\_classification.py:1386: UserWarning: Note that pos_label (set to 'positive') is ignored when average != 'binary' (got 'micro'). You may use labels=[pos_label] to specify a single positive class.\n",
      "  warnings.warn(\n"
     ]
    }
   ],
   "source": [
    "from sklearn import svm\n",
    "model_svm_s = svm.SVC(kernel='sigmoid', C=1, decision_function_shape='ovo')\n",
    "model_svm_s.fit(x_train, y_train)\n",
    "joblib.dump(model_svm_s,\"model_svm_s\")\n",
    "y_pred5 = model_svm_s.predict(x_test)\n",
    "print(\"SVM Sigmoid kernel\")\n",
    "print(\"Train Accuracy:\",model_svm_s.score(x_train, y_train))\n",
    "print(\"Test Accuracy:\",model_svm_s.score(x_test, y_test))\n",
    "print(\"Precision Score: \",metrics.precision_score(y_test, y_pred5, pos_label='positive', average='micro'))\n",
    "print(\"Recall Score: \",metrics.recall_score(y_test, y_pred5, pos_label='positive', average='micro'))\n",
    "print(\"F1 Score: \",metrics.f1_score(y_test, y_pred5, pos_label='positive', average='micro'))\n"
   ]
  },
  {
   "cell_type": "markdown",
   "metadata": {},
   "source": [
    "# SVM POLY"
   ]
  },
  {
   "cell_type": "code",
   "execution_count": 184,
   "metadata": {},
   "outputs": [
    {
     "name": "stdout",
     "output_type": "stream",
     "text": [
      "SVM Poly kernel\n",
      "Train Accuracy: 0.8504098360655737\n",
      "Test Accuracy: 0.6530612244897959\n",
      "Precision Score:  0.6530612244897959\n",
      "Recall Score:  0.6530612244897959\n",
      "F1 Score:  0.6530612244897959\n"
     ]
    },
    {
     "name": "stderr",
     "output_type": "stream",
     "text": [
      "C:\\Users\\prath\\anaconda3\\lib\\site-packages\\sklearn\\metrics\\_classification.py:1386: UserWarning: Note that pos_label (set to 'positive') is ignored when average != 'binary' (got 'micro'). You may use labels=[pos_label] to specify a single positive class.\n",
      "  warnings.warn(\n",
      "C:\\Users\\prath\\anaconda3\\lib\\site-packages\\sklearn\\metrics\\_classification.py:1386: UserWarning: Note that pos_label (set to 'positive') is ignored when average != 'binary' (got 'micro'). You may use labels=[pos_label] to specify a single positive class.\n",
      "  warnings.warn(\n",
      "C:\\Users\\prath\\anaconda3\\lib\\site-packages\\sklearn\\metrics\\_classification.py:1386: UserWarning: Note that pos_label (set to 'positive') is ignored when average != 'binary' (got 'micro'). You may use labels=[pos_label] to specify a single positive class.\n",
      "  warnings.warn(\n"
     ]
    }
   ],
   "source": [
    "from sklearn import svm\n",
    "model_svm_p = svm.SVC(kernel='poly', degree=3, C=1, decision_function_shape='ovo')\n",
    "model_svm_p.fit(x_train, y_train)\n",
    "joblib.dump(model_svm_p,\"model_svm_p\")\n",
    "y_pred6 = model_svm_p.predict(x_test)\n",
    "print(\"SVM Poly kernel\")\n",
    "print(\"Train Accuracy:\",model_svm_p.score(x_train, y_train))\n",
    "print(\"Test Accuracy:\",model_svm_p.score(x_test, y_test))\n",
    "print(\"Precision Score: \",metrics.precision_score(y_test, y_pred6, pos_label='positive', average='micro'))\n",
    "print(\"Recall Score: \",metrics.recall_score(y_test, y_pred6, pos_label='positive', average='micro'))\n",
    "print(\"F1 Score: \",metrics.f1_score(y_test, y_pred6, pos_label='positive', average='micro'))"
   ]
  },
  {
   "cell_type": "markdown",
   "metadata": {},
   "source": [
    "# SVM RBF"
   ]
  },
  {
   "cell_type": "code",
   "execution_count": 185,
   "metadata": {},
   "outputs": [
    {
     "name": "stdout",
     "output_type": "stream",
     "text": [
      "SVM RBF kernel\n",
      "Train Accuracy: 0.6875\n",
      "Test Accuracy: 0.6244897959183674\n",
      "Precision Score:  0.6244897959183674\n",
      "Recall Score:  0.6244897959183674\n",
      "F1 Score:  0.6244897959183674\n"
     ]
    },
    {
     "name": "stderr",
     "output_type": "stream",
     "text": [
      "C:\\Users\\prath\\anaconda3\\lib\\site-packages\\sklearn\\metrics\\_classification.py:1386: UserWarning: Note that pos_label (set to 'positive') is ignored when average != 'binary' (got 'micro'). You may use labels=[pos_label] to specify a single positive class.\n",
      "  warnings.warn(\n",
      "C:\\Users\\prath\\anaconda3\\lib\\site-packages\\sklearn\\metrics\\_classification.py:1386: UserWarning: Note that pos_label (set to 'positive') is ignored when average != 'binary' (got 'micro'). You may use labels=[pos_label] to specify a single positive class.\n",
      "  warnings.warn(\n",
      "C:\\Users\\prath\\anaconda3\\lib\\site-packages\\sklearn\\metrics\\_classification.py:1386: UserWarning: Note that pos_label (set to 'positive') is ignored when average != 'binary' (got 'micro'). You may use labels=[pos_label] to specify a single positive class.\n",
      "  warnings.warn(\n"
     ]
    }
   ],
   "source": [
    "from sklearn import svm\n",
    "model_svm_r = svm.SVC(kernel='rbf', gamma=1, C=1, decision_function_shape='ovo')\n",
    "model_svm_r.fit(x_train, y_train)\n",
    "joblib.dump(model_svm_r,\"model_svm_r\")\n",
    "y_pred7 = model_svm_r.predict(x_test)\n",
    "print(\"SVM RBF kernel\")\n",
    "print(\"Train Accuracy:\",model_svm_r.score(x_train, y_train))\n",
    "print(\"Test Accuracy:\",model_svm_r.score(x_test, y_test))\n",
    "print(\"Precision Score: \",metrics.precision_score(y_test, y_pred7, pos_label='positive', average='micro'))\n",
    "print(\"Recall Score: \",metrics.recall_score(y_test, y_pred7, pos_label='positive', average='micro'))\n",
    "print(\"F1 Score: \",metrics.f1_score(y_test, y_pred7, pos_label='positive', average='micro'))"
   ]
  },
  {
   "cell_type": "markdown",
   "metadata": {},
   "source": [
    "# GAUSSION NAVIE BAYES"
   ]
  },
  {
   "cell_type": "code",
   "execution_count": 186,
   "metadata": {},
   "outputs": [
    {
     "name": "stdout",
     "output_type": "stream",
     "text": [
      "Gaussian NB\n",
      "Train Accuracy: 0.7131147540983607\n",
      "Test Accuracy: 0.6530612244897959\n",
      "Precision Score:  0.6530612244897959\n",
      "Recall Score:  0.6530612244897959\n",
      "F1 Score:  0.6530612244897959\n"
     ]
    },
    {
     "name": "stderr",
     "output_type": "stream",
     "text": [
      "C:\\Users\\prath\\anaconda3\\lib\\site-packages\\sklearn\\metrics\\_classification.py:1386: UserWarning: Note that pos_label (set to 'positive') is ignored when average != 'binary' (got 'micro'). You may use labels=[pos_label] to specify a single positive class.\n",
      "  warnings.warn(\n",
      "C:\\Users\\prath\\anaconda3\\lib\\site-packages\\sklearn\\metrics\\_classification.py:1386: UserWarning: Note that pos_label (set to 'positive') is ignored when average != 'binary' (got 'micro'). You may use labels=[pos_label] to specify a single positive class.\n",
      "  warnings.warn(\n",
      "C:\\Users\\prath\\anaconda3\\lib\\site-packages\\sklearn\\metrics\\_classification.py:1386: UserWarning: Note that pos_label (set to 'positive') is ignored when average != 'binary' (got 'micro'). You may use labels=[pos_label] to specify a single positive class.\n",
      "  warnings.warn(\n"
     ]
    }
   ],
   "source": [
    "from sklearn.naive_bayes import GaussianNB\n",
    "model_nb = GaussianNB().fit(x_train, y_train)\n",
    "joblib.dump(model_nb,\"model_nb\")\n",
    "y_pred8 = model_nb.predict(x_test)\n",
    "print(\"Gaussian NB\")\n",
    "print(\"Train Accuracy:\",model_nb.score(x_train, y_train))\n",
    "print(\"Test Accuracy:\",model_nb.score(x_test, y_test))\n",
    "print(\"Precision Score: \",metrics.precision_score(y_test, y_pred8, pos_label='positive', average='micro'))\n",
    "print(\"Recall Score: \",metrics.recall_score(y_test, y_pred8, pos_label='positive', average='micro'))\n",
    "print(\"F1 Score: \",metrics.f1_score(y_test, y_pred8, pos_label='positive', average='micro'))"
   ]
  },
  {
   "cell_type": "markdown",
   "metadata": {},
   "source": [
    "# Voting Classifier"
   ]
  },
  {
   "cell_type": "code",
   "execution_count": 187,
   "metadata": {},
   "outputs": [
    {
     "name": "stdout",
     "output_type": "stream",
     "text": [
      "Voting Classifier Hard\n",
      "Train Accuracy: 0.9077868852459017\n",
      "Test Accuracy: 0.6693877551020408\n",
      "Precision Score:  0.6693877551020408\n",
      "Recall Score:  0.6693877551020408\n",
      "F2 Score:  0.6693877551020408\n",
      "F1 Score:  0.6693877551020408\n",
      "Confusion Matrix: \n",
      "[[137  16]\n",
      " [ 65  27]]\n"
     ]
    },
    {
     "name": "stderr",
     "output_type": "stream",
     "text": [
      "C:\\Users\\prath\\anaconda3\\lib\\site-packages\\sklearn\\metrics\\_classification.py:1386: UserWarning: Note that pos_label (set to 'positive') is ignored when average != 'binary' (got 'micro'). You may use labels=[pos_label] to specify a single positive class.\n",
      "  warnings.warn(\n",
      "C:\\Users\\prath\\anaconda3\\lib\\site-packages\\sklearn\\metrics\\_classification.py:1386: UserWarning: Note that pos_label (set to 'positive') is ignored when average != 'binary' (got 'micro'). You may use labels=[pos_label] to specify a single positive class.\n",
      "  warnings.warn(\n",
      "C:\\Users\\prath\\anaconda3\\lib\\site-packages\\sklearn\\metrics\\_classification.py:1386: UserWarning: Note that pos_label (set to 'positive') is ignored when average != 'binary' (got 'micro'). You may use labels=[pos_label] to specify a single positive class.\n",
      "  warnings.warn(\n",
      "C:\\Users\\prath\\anaconda3\\lib\\site-packages\\sklearn\\metrics\\_classification.py:1386: UserWarning: Note that pos_label (set to 'positive') is ignored when average != 'binary' (got 'micro'). You may use labels=[pos_label] to specify a single positive class.\n",
      "  warnings.warn(\n"
     ]
    }
   ],
   "source": [
    "from sklearn.ensemble import VotingClassifier\n",
    "\n",
    "model_voting = VotingClassifier( estimators=[('DT', model_dt ), ('RF', model_rf),('KNN', model_knn), ('SCVP', model_svm_p), \n",
    "                                           ('GuassianNB', model_nb)], voting='hard')\n",
    "model_voting.fit(x_train, y_train)\n",
    "voting_pred = model_voting.predict(x_test)\n",
    "joblib.dump(model_voting,\"model_voting\")\n",
    "CM = confusion_matrix(y_test, voting_pred)\n",
    "print(\"Voting Classifier Hard\")\n",
    "print(\"Train Accuracy:\",model_voting.score(x_train, y_train))\n",
    "print(\"Test Accuracy:\",model_voting.score(x_test, y_test))\n",
    "print(\"Precision Score: \",metrics.precision_score(y_test, voting_pred,pos_label='positive', average='micro'))\n",
    "print(\"Recall Score: \",metrics.recall_score(y_test, voting_pred,pos_label='positive', average='micro'))\n",
    "print(\"F2 Score: \",metrics.fbeta_score(y_test, voting_pred,pos_label='positive', average='micro',beta=2.0))\n",
    "print(\"F1 Score: \",metrics.f1_score(y_test, voting_pred,pos_label='positive', average='micro'))\n",
    "print(\"Confusion Matrix: \")\n",
    "print(confusion_matrix(y_test, voting_pred))"
   ]
  },
  {
   "cell_type": "code",
   "execution_count": null,
   "metadata": {},
   "outputs": [],
   "source": []
  }
 ],
 "metadata": {
  "kernelspec": {
   "display_name": "Python 3",
   "language": "python",
   "name": "python3"
  },
  "language_info": {
   "codemirror_mode": {
    "name": "ipython",
    "version": 3
   },
   "file_extension": ".py",
   "mimetype": "text/x-python",
   "name": "python",
   "nbconvert_exporter": "python",
   "pygments_lexer": "ipython3",
   "version": "3.8.5"
  }
 },
 "nbformat": 4,
 "nbformat_minor": 4
}
